{
 "cells": [
  {
   "cell_type": "markdown",
   "id": "b2ef8c05",
   "metadata": {},
   "source": [
    "### Charting Data"
   ]
  },
  {
   "cell_type": "code",
   "execution_count": 1,
   "id": "648107ef",
   "metadata": {},
   "outputs": [],
   "source": [
    "import numpy as np\n",
    "import pandas as pd\n",
    "import matplotlib.pyplot as plt"
   ]
  },
  {
   "cell_type": "code",
   "execution_count": 16,
   "id": "0f16b049",
   "metadata": {},
   "outputs": [
    {
     "data": {
      "text/plain": [
       "(array([0, 1, 2, 3, 4]),\n",
       " array([4.26328375, 4.99329018, 4.29192222, 4.4322337 , 4.60055833]))"
      ]
     },
     "execution_count": 16,
     "metadata": {},
     "output_type": "execute_result"
    }
   ],
   "source": [
    "x = np.arange(5)\n",
    "y = np.random.rand(5)+4 # some random number all greater than 4\n",
    "(x, y)"
   ]
  },
  {
   "cell_type": "code",
   "execution_count": 22,
   "id": "0df9c157",
   "metadata": {},
   "outputs": [
    {
     "data": {
      "text/plain": [
       "Text(0.5, 1.0, 'Vertical Bars')"
      ]
     },
     "execution_count": 22,
     "metadata": {},
     "output_type": "execute_result"
    },
    {
     "data": {
      "image/png": "[encoded data removed]",
      "text/plain": [
       "<Figure size 432x288 with 1 Axes>"
      ]
     },
     "metadata": {
      "needs_background": "light"
     },
     "output_type": "display_data"
    }
   ],
   "source": [
    "# we can plot a chart\n",
    "plt.bar(x, y)\n",
    "# plt.barh(x, y)\n",
    "# plt.pie(y)\n",
    "plt.title('Vertical Bars')"
   ]
  },
  {
   "cell_type": "code",
   "execution_count": 24,
   "id": "1af6f60e",
   "metadata": {},
   "outputs": [
    {
     "data": {
      "text/plain": [
       "(array([0.        , 0.54545455, 1.09090909, 1.63636364, 2.18181818,\n",
       "        2.72727273, 3.27272727, 3.81818182, 4.36363636, 4.90909091,\n",
       "        5.45454545, 6.        ]),\n",
       " array([ 0.        ,  0.29752066,  1.19008264,  2.67768595,  4.76033058,\n",
       "         7.43801653, 10.7107438 , 14.5785124 , 19.04132231, 24.09917355,\n",
       "        29.75206612, 36.        ]))"
      ]
     },
     "execution_count": 24,
     "metadata": {},
     "output_type": "execute_result"
    }
   ],
   "source": [
    "# Line chart\n",
    "x = np.linspace(0, 6, 12)\n",
    "y = np.power(x, 2) # this is performant\n",
    "x, y"
   ]
  },
  {
   "cell_type": "code",
   "execution_count": 26,
   "id": "b4bdf3fa",
   "metadata": {},
   "outputs": [
    {
     "data": {
      "text/plain": [
       "[<matplotlib.lines.Line2D at 0x162857c1b80>]"
      ]
     },
     "execution_count": 26,
     "metadata": {},
     "output_type": "execute_result"
    },
    {
     "data": {
      "image/png": "[encoded data removed]",
      "text/plain": [
       "<Figure size 432x288 with 1 Axes>"
      ]
     },
     "metadata": {
      "needs_background": "light"
     },
     "output_type": "display_data"
    }
   ],
   "source": [
    "plt.axis([0,7, 0, 42])\n",
    "plt.xlabel('Linear Progression')\n",
    "plt.ylabel('Squares')\n",
    "plt.title('Line Chart')\n",
    "plt.plot(x, y)"
   ]
  },
  {
   "cell_type": "code",
   "execution_count": null,
   "id": "ce4b2fb5",
   "metadata": {},
   "outputs": [],
   "source": []
  }
 ],
 "metadata": {
  "kernelspec": {
   "display_name": "Python 3 (ipykernel)",
   "language": "python",
   "name": "python3"
  },
  "language_info": {
   "codemirror_mode": {
    "name": "ipython",
    "version": 3
   },
   "file_extension": ".py",
   "mimetype": "text/x-python",
   "name": "python",
   "nbconvert_exporter": "python",
   "pygments_lexer": "ipython3",
   "version": "3.12.4"
  }
 },
 "nbformat": 4,
 "nbformat_minor": 5
}
