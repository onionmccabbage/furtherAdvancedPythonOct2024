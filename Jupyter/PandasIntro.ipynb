{
 "cells": [
  {
   "cell_type": "markdown",
   "id": "91f937f3-0b1e-442e-a248-22b29ad4b694",
   "metadata": {},
   "source": [
    "### Introducing Pandas\n",
    "Pandas is Python And Numerical Data Analysis"
   ]
  },
  {
   "cell_type": "code",
   "execution_count": 5,
   "id": "0f8feaa4-d1a2-45cb-ab38-635e411bb28d",
   "metadata": {},
   "outputs": [],
   "source": [
    "import numpy as np\n",
    "import pandas as pd # for stand-along remember to pip install pandas"
   ]
  },
  {
   "cell_type": "code",
   "execution_count": 59,
   "id": "c004a5f2-0fcc-4a04-93ed-f98ac4e159c8",
   "metadata": {},
   "outputs": [
    {
     "data": {
      "text/plain": [
       "d     8.0\n",
       "d    99.0\n",
       "dtype: float64"
      ]
     },
     "execution_count": 59,
     "metadata": {},
     "output_type": "execute_result"
    }
   ],
   "source": [
    "# Pandas procides additional data structures\n",
    "l = [8.0, 7, -5.0, 3, 99]\n",
    "# a Pandas Series is a mutable collection of the same data type\n",
    "# p = pd.Series(l, index=range(0,10,2)) # we may set an index on creation\n",
    "p = pd.Series(l)\n",
    "p.values # the values of a Series are a Numpy array\n",
    "p.index # a range-like object - there is always an index\n",
    "# p[0:3] # by default the index is zero-based, 0, 1, 2.... We can apply our own index\n",
    "ind = ('d','b','a','c', 'd') # a tuple (same length as the target series)\n",
    "s = pd.Series(l, index=ind) # we use the tuple as an index\n",
    "s.index\n",
    "s['b':'c'] # normal slicing, but inclusive\n",
    "s['d'] # every match is found - even with repeated index names"
   ]
  },
  {
   "cell_type": "code",
   "execution_count": 69,
   "id": "c8590a26-f886-41dc-aca7-cc8f5b1689a9",
   "metadata": {},
   "outputs": [
    {
     "data": {
      "text/plain": [
       "-5"
      ]
     },
     "execution_count": 69,
     "metadata": {},
     "output_type": "execute_result"
    }
   ],
   "source": [
    "# building Pandas Series\n",
    "vals = (4,7,-5,3)\n",
    "ind = {'d', 'b', 'a', 'c'} # set ensures unique members\n",
    "s = pd.Series(vals, index=ind)\n",
    "s['d'] # due to the index being a set we cannot presume the index order\n"
   ]
  },
  {
   "cell_type": "code",
   "execution_count": 79,
   "id": "942806ae-013f-4beb-ba7b-88c5b2f8d6f4",
   "metadata": {},
   "outputs": [
    {
     "name": "stderr",
     "output_type": "stream",
     "text": [
      "C:\\Users\\rb17\\AppData\\Local\\Temp\\ipykernel_26608\\2174942194.py:1: FutureWarning: Setting an item of incompatible dtype is deprecated and will raise an error in a future version of pandas. Value '99.99' has dtype incompatible with int64, please explicitly cast to a compatible dtype first.\n",
      "  s['d'] = 99.99 # we can mutate members of a Series\n"
     ]
    },
    {
     "data": {
      "text/plain": [
       "a     4.00\n",
       "c     7.00\n",
       "d    99.99\n",
       "b     3.00\n",
       "dtype: float64"
      ]
     },
     "execution_count": 79,
     "metadata": {},
     "output_type": "execute_result"
    }
   ],
   "source": [
    "s['d'] = 99.99 # we can mutate members of a Series\n",
    "s.iloc[0] # iloc lets us use the inderlying index location\n",
    "s"
   ]
  },
  {
   "cell_type": "code",
   "execution_count": 85,
   "id": "781e35cd-783f-4afe-9968-cdc9e7d8b986",
   "metadata": {},
   "outputs": [
    {
     "data": {
      "text/plain": [
       "d     99.99\n",
       "e   -321.00\n",
       "dtype: float64"
      ]
     },
     "execution_count": 85,
     "metadata": {},
     "output_type": "execute_result"
    }
   ],
   "source": [
    "# as well as mutating members, we can add members to the Series\n",
    "s['e'] = -321\n",
    "s['d':'e':2] # step uses the underlying ordinality"
   ]
  },
  {
   "cell_type": "code",
   "execution_count": 93,
   "id": "e7042754-e8b1-463b-b3b5-62e5ecfd1834",
   "metadata": {},
   "outputs": [
    {
     "data": {
      "text/plain": [
       "a    2.000000\n",
       "c    2.645751\n",
       "d    9.999500\n",
       "b    1.732051\n",
       "e         NaN\n",
       "dtype: float64"
      ]
     },
     "execution_count": 93,
     "metadata": {},
     "output_type": "execute_result"
    }
   ],
   "source": [
    "# We can use comparative logic to return members\n",
    "s[s>2] # any comparitor is legal here\n",
    "# we may apply mathematics to all the members\n",
    "s**0.5  # apply to every member NaN represents 'not a number'"
   ]
  },
  {
   "cell_type": "code",
   "execution_count": 95,
   "id": "60dea5ab-0dd8-45ef-86ad-233377cd92df",
   "metadata": {},
   "outputs": [
    {
     "data": {
      "text/plain": [
       "a      4.0\n",
       "c      7.0\n",
       "d      NaN\n",
       "b      3.0\n",
       "e   -321.0\n",
       "dtype: float64"
      ]
     },
     "execution_count": 95,
     "metadata": {},
     "output_type": "execute_result"
    }
   ],
   "source": [
    "s.iloc[2] = np.nan\n",
    "s"
   ]
  },
  {
   "cell_type": "markdown",
   "id": "f54cd08b-200f-49b1-8779-2e30ab6a7c65",
   "metadata": {},
   "source": [
    "### Pandas Data Analysis with Data Frames"
   ]
  },
  {
   "cell_type": "code",
   "execution_count": 115,
   "id": "6de56107-df34-4133-920b-d65a48b86357",
   "metadata": {},
   "outputs": [
    {
     "data": {
      "text/plain": [
       "Athlone     5000.0\n",
       "Dublin     71000.0\n",
       "Shannon        NaN\n",
       "Cork       35000.0\n",
       "Galway     16000.0\n",
       "dtype: float64"
      ]
     },
     "execution_count": 115,
     "metadata": {},
     "output_type": "execute_result"
    }
   ],
   "source": [
    "# here is some data\n",
    "sdata = {'Cork':35000, 'Dublin':71000, 'Galway':16000, 'Athlone':5000, 'Genoa':500}\n",
    "idata = {'Cork', 'Dublin', 'Shannon', 'Galway', 'Athlone'} # set, list, tuple all good\n",
    "p = pd.Series(sdata, index=idata)\n",
    "p # any missing data members are assigned NaN"
   ]
  },
  {
   "cell_type": "code",
   "execution_count": 117,
   "id": "023010d1-f8f8-443d-bbe1-5a6a0520f43a",
   "metadata": {},
   "outputs": [
    {
     "data": {
      "text/plain": [
       "Athlone     5000.0\n",
       "Dublin     71000.0\n",
       "Shannon    32345.0\n",
       "Cork       35000.0\n",
       "Galway     16000.0\n",
       "dtype: float64"
      ]
     },
     "execution_count": 117,
     "metadata": {},
     "output_type": "execute_result"
    }
   ],
   "source": [
    "p['Cork'] # case sensitive index\n",
    "p['Shannon'] = 32345\n",
    "p"
   ]
  },
  {
   "cell_type": "code",
   "execution_count": null,
   "id": "2cd6545b-1cdd-49d3-9443-5c7f202d2783",
   "metadata": {},
   "outputs": [],
   "source": [
    "# Pandas also provides a DataFrame class\n",
    "# Each column of a DataFrame is a Series\n",
    "# Therefore each column may only contain a single data type\n",
    "# the columns of a DataFrame may be of different types\n",
    "# A DataFrame is somewha like a spreadsheet"
   ]
  },
  {
   "cell_type": "code",
   "execution_count": 119,
   "id": "e1a00dab-6c43-4910-a5b3-d31466ec29d1",
   "metadata": {},
   "outputs": [
    {
     "data": {
      "text/plain": [
       "{'Towns': ['Cork',\n",
       "  'Dublin',\n",
       "  'Galway',\n",
       "  'Athlone',\n",
       "  'Shannon',\n",
       "  'Rosscarbery',\n",
       "  'Athenry'],\n",
       " 'Years': [2017, 2018, 2019, 2020, 2021, 2022, 2023],\n",
       " 'Pop': [1.5, 1.7, 3.6, 2.4, 2.9, 3.2, 1.7]}"
      ]
     },
     "execution_count": 119,
     "metadata": {},
     "output_type": "execute_result"
    }
   ],
   "source": [
    "towns_l = ['Cork', 'Dublin', 'Galway', 'Athlone', 'Shannon', 'Rosscarbery', 'Athenry']\n",
    "years_l = [2017, 2018, 2019, 2020, 2021, 2022, 2023]\n",
    "pop_l   = [1.5, 1.7, 3.6, 2.4, 2.9, 3.2, 1.7]\n",
    "data_d = {'Towns':towns_l, 'Years':years_l, 'Pop':pop_l}\n",
    "data_d # we have a dictionary"
   ]
  },
  {
   "cell_type": "code",
   "execution_count": 123,
   "id": "8ad653a5-95c0-4369-9eac-fd230dc85cbc",
   "metadata": {},
   "outputs": [
    {
     "data": {
      "text/html": [
       "<div>\n",
       "<style scoped>\n",
       "    .dataframe tbody tr th:only-of-type {\n",
       "        vertical-align: middle;\n",
       "    }\n",
       "\n",
       "    .dataframe tbody tr th {\n",
       "        vertical-align: top;\n",
       "    }\n",
       "\n",
       "    .dataframe thead th {\n",
       "        text-align: right;\n",
       "    }\n",
       "</style>\n",
       "<table border=\"1\" class=\"dataframe\">\n",
       "  <thead>\n",
       "    <tr style=\"text-align: right;\">\n",
       "      <th></th>\n",
       "      <th>Towns</th>\n",
       "      <th>Years</th>\n",
       "      <th>Pop</th>\n",
       "    </tr>\n",
       "  </thead>\n",
       "  <tbody>\n",
       "    <tr>\n",
       "      <th>Cork</th>\n",
       "      <td>Cork</td>\n",
       "      <td>2017</td>\n",
       "      <td>1.5</td>\n",
       "    </tr>\n",
       "    <tr>\n",
       "      <th>Dublin</th>\n",
       "      <td>Dublin</td>\n",
       "      <td>2018</td>\n",
       "      <td>1.7</td>\n",
       "    </tr>\n",
       "    <tr>\n",
       "      <th>Galway</th>\n",
       "      <td>Galway</td>\n",
       "      <td>2019</td>\n",
       "      <td>3.6</td>\n",
       "    </tr>\n",
       "    <tr>\n",
       "      <th>Athlone</th>\n",
       "      <td>Athlone</td>\n",
       "      <td>2020</td>\n",
       "      <td>2.4</td>\n",
       "    </tr>\n",
       "    <tr>\n",
       "      <th>Shannon</th>\n",
       "      <td>Shannon</td>\n",
       "      <td>2021</td>\n",
       "      <td>2.9</td>\n",
       "    </tr>\n",
       "    <tr>\n",
       "      <th>Rosscarbery</th>\n",
       "      <td>Rosscarbery</td>\n",
       "      <td>2022</td>\n",
       "      <td>3.2</td>\n",
       "    </tr>\n",
       "    <tr>\n",
       "      <th>Athenry</th>\n",
       "      <td>Athenry</td>\n",
       "      <td>2023</td>\n",
       "      <td>1.7</td>\n",
       "    </tr>\n",
       "  </tbody>\n",
       "</table>\n",
       "</div>"
      ],
      "text/plain": [
       "                   Towns  Years  Pop\n",
       "Cork                Cork   2017  1.5\n",
       "Dublin            Dublin   2018  1.7\n",
       "Galway            Galway   2019  3.6\n",
       "Athlone          Athlone   2020  2.4\n",
       "Shannon          Shannon   2021  2.9\n",
       "Rosscarbery  Rosscarbery   2022  3.2\n",
       "Athenry          Athenry   2023  1.7"
      ]
     },
     "execution_count": 123,
     "metadata": {},
     "output_type": "execute_result"
    }
   ],
   "source": [
    "# we may construct a DataFrame from this dictionary\n",
    "df = pd.DataFrame(data_d, index=towns_l) # index is optional\n",
    "df # we have a pretty reopresentation of the data"
   ]
  },
  {
   "cell_type": "code",
   "execution_count": 137,
   "id": "e4b17199-380e-47a1-9a03-0c29f95f3dac",
   "metadata": {},
   "outputs": [
    {
     "data": {
      "text/html": [
       "<div>\n",
       "<style scoped>\n",
       "    .dataframe tbody tr th:only-of-type {\n",
       "        vertical-align: middle;\n",
       "    }\n",
       "\n",
       "    .dataframe tbody tr th {\n",
       "        vertical-align: top;\n",
       "    }\n",
       "\n",
       "    .dataframe thead th {\n",
       "        text-align: right;\n",
       "    }\n",
       "</style>\n",
       "<table border=\"1\" class=\"dataframe\">\n",
       "  <thead>\n",
       "    <tr style=\"text-align: right;\">\n",
       "      <th></th>\n",
       "      <th>Pop</th>\n",
       "      <th>Years</th>\n",
       "    </tr>\n",
       "  </thead>\n",
       "  <tbody>\n",
       "    <tr>\n",
       "      <th>Cork</th>\n",
       "      <td>1.5</td>\n",
       "      <td>2017</td>\n",
       "    </tr>\n",
       "    <tr>\n",
       "      <th>Dublin</th>\n",
       "      <td>1.7</td>\n",
       "      <td>2018</td>\n",
       "    </tr>\n",
       "    <tr>\n",
       "      <th>Galway</th>\n",
       "      <td>3.6</td>\n",
       "      <td>2019</td>\n",
       "    </tr>\n",
       "    <tr>\n",
       "      <th>Athlone</th>\n",
       "      <td>2.4</td>\n",
       "      <td>2020</td>\n",
       "    </tr>\n",
       "    <tr>\n",
       "      <th>Shannon</th>\n",
       "      <td>2.9</td>\n",
       "      <td>2021</td>\n",
       "    </tr>\n",
       "    <tr>\n",
       "      <th>Rosscarbery</th>\n",
       "      <td>3.2</td>\n",
       "      <td>2022</td>\n",
       "    </tr>\n",
       "    <tr>\n",
       "      <th>Athenry</th>\n",
       "      <td>1.7</td>\n",
       "      <td>2023</td>\n",
       "    </tr>\n",
       "  </tbody>\n",
       "</table>\n",
       "</div>"
      ],
      "text/plain": [
       "             Pop  Years\n",
       "Cork         1.5   2017\n",
       "Dublin       1.7   2018\n",
       "Galway       3.6   2019\n",
       "Athlone      2.4   2020\n",
       "Shannon      2.9   2021\n",
       "Rosscarbery  3.2   2022\n",
       "Athenry      1.7   2023"
      ]
     },
     "execution_count": 137,
     "metadata": {},
     "output_type": "execute_result"
    }
   ],
   "source": [
    "# CAREFUL [[]]\n",
    "df[['Pop', 'Years']] # we may examine single columns of the DataFrame\n",
    "# a single columns is a Series. A list or columns returns a DataFrame"
   ]
  },
  {
   "cell_type": "code",
   "execution_count": 145,
   "id": "1fd5525e-28f9-4317-8ae1-0a5e3f5bbb11",
   "metadata": {},
   "outputs": [
    {
     "data": {
      "text/html": [
       "<div>\n",
       "<style scoped>\n",
       "    .dataframe tbody tr th:only-of-type {\n",
       "        vertical-align: middle;\n",
       "    }\n",
       "\n",
       "    .dataframe tbody tr th {\n",
       "        vertical-align: top;\n",
       "    }\n",
       "\n",
       "    .dataframe thead th {\n",
       "        text-align: right;\n",
       "    }\n",
       "</style>\n",
       "<table border=\"1\" class=\"dataframe\">\n",
       "  <thead>\n",
       "    <tr style=\"text-align: right;\">\n",
       "      <th></th>\n",
       "      <th>Towns</th>\n",
       "      <th>Years</th>\n",
       "      <th>Pop</th>\n",
       "    </tr>\n",
       "  </thead>\n",
       "  <tbody>\n",
       "    <tr>\n",
       "      <th>Rosscarbery</th>\n",
       "      <td>Rosscarbery</td>\n",
       "      <td>2022</td>\n",
       "      <td>3.2</td>\n",
       "    </tr>\n",
       "    <tr>\n",
       "      <th>Athenry</th>\n",
       "      <td>Athenry</td>\n",
       "      <td>2023</td>\n",
       "      <td>1.7</td>\n",
       "    </tr>\n",
       "  </tbody>\n",
       "</table>\n",
       "</div>"
      ],
      "text/plain": [
       "                   Towns  Years  Pop\n",
       "Rosscarbery  Rosscarbery   2022  3.2\n",
       "Athenry          Athenry   2023  1.7"
      ]
     },
     "execution_count": 145,
     "metadata": {},
     "output_type": "execute_result"
    }
   ],
   "source": [
    "df.head(3) # we may choose to show a few members\n",
    "df.tail(2)"
   ]
  },
  {
   "cell_type": "code",
   "execution_count": 147,
   "id": "38688fa9-2bc4-445e-ab5f-2354b8549afb",
   "metadata": {},
   "outputs": [
    {
     "data": {
      "text/html": [
       "<div>\n",
       "<style scoped>\n",
       "    .dataframe tbody tr th:only-of-type {\n",
       "        vertical-align: middle;\n",
       "    }\n",
       "\n",
       "    .dataframe tbody tr th {\n",
       "        vertical-align: top;\n",
       "    }\n",
       "\n",
       "    .dataframe thead th {\n",
       "        text-align: right;\n",
       "    }\n",
       "</style>\n",
       "<table border=\"1\" class=\"dataframe\">\n",
       "  <thead>\n",
       "    <tr style=\"text-align: right;\">\n",
       "      <th></th>\n",
       "      <th>Towns</th>\n",
       "      <th>Years</th>\n",
       "      <th>Pop</th>\n",
       "    </tr>\n",
       "  </thead>\n",
       "  <tbody>\n",
       "    <tr>\n",
       "      <th>one</th>\n",
       "      <td>Cork</td>\n",
       "      <td>2017</td>\n",
       "      <td>1.5</td>\n",
       "    </tr>\n",
       "    <tr>\n",
       "      <th>two</th>\n",
       "      <td>Dublin</td>\n",
       "      <td>2018</td>\n",
       "      <td>1.7</td>\n",
       "    </tr>\n",
       "    <tr>\n",
       "      <th>three</th>\n",
       "      <td>Galway</td>\n",
       "      <td>2019</td>\n",
       "      <td>3.6</td>\n",
       "    </tr>\n",
       "    <tr>\n",
       "      <th>four</th>\n",
       "      <td>Athlone</td>\n",
       "      <td>2020</td>\n",
       "      <td>2.4</td>\n",
       "    </tr>\n",
       "    <tr>\n",
       "      <th>five</th>\n",
       "      <td>Shannon</td>\n",
       "      <td>2021</td>\n",
       "      <td>2.9</td>\n",
       "    </tr>\n",
       "    <tr>\n",
       "      <th>six</th>\n",
       "      <td>Rosscarbery</td>\n",
       "      <td>2022</td>\n",
       "      <td>3.2</td>\n",
       "    </tr>\n",
       "    <tr>\n",
       "      <th>seven</th>\n",
       "      <td>Athenry</td>\n",
       "      <td>2023</td>\n",
       "      <td>1.7</td>\n",
       "    </tr>\n",
       "  </tbody>\n",
       "</table>\n",
       "</div>"
      ],
      "text/plain": [
       "             Towns  Years  Pop\n",
       "one           Cork   2017  1.5\n",
       "two         Dublin   2018  1.7\n",
       "three       Galway   2019  3.6\n",
       "four       Athlone   2020  2.4\n",
       "five       Shannon   2021  2.9\n",
       "six    Rosscarbery   2022  3.2\n",
       "seven      Athenry   2023  1.7"
      ]
     },
     "execution_count": 147,
     "metadata": {},
     "output_type": "execute_result"
    }
   ],
   "source": [
    "# we may re-index at any time\n",
    "new_ind= ('one','two','three','four','five','six','seven')\n",
    "df.index = new_ind\n",
    "df"
   ]
  },
  {
   "cell_type": "code",
   "execution_count": 167,
   "id": "87d6fcf3-d67b-4d49-b6e6-d4e74bacc984",
   "metadata": {},
   "outputs": [
    {
     "data": {
      "text/html": [
       "<div>\n",
       "<style scoped>\n",
       "    .dataframe tbody tr th:only-of-type {\n",
       "        vertical-align: middle;\n",
       "    }\n",
       "\n",
       "    .dataframe tbody tr th {\n",
       "        vertical-align: top;\n",
       "    }\n",
       "\n",
       "    .dataframe thead th {\n",
       "        text-align: right;\n",
       "    }\n",
       "</style>\n",
       "<table border=\"1\" class=\"dataframe\">\n",
       "  <thead>\n",
       "    <tr style=\"text-align: right;\">\n",
       "      <th></th>\n",
       "      <th>Pop</th>\n",
       "    </tr>\n",
       "  </thead>\n",
       "  <tbody>\n",
       "    <tr>\n",
       "      <th>one</th>\n",
       "      <td>1.5</td>\n",
       "    </tr>\n",
       "    <tr>\n",
       "      <th>two</th>\n",
       "      <td>1.7</td>\n",
       "    </tr>\n",
       "    <tr>\n",
       "      <th>three</th>\n",
       "      <td>3.6</td>\n",
       "    </tr>\n",
       "    <tr>\n",
       "      <th>four</th>\n",
       "      <td>2.4</td>\n",
       "    </tr>\n",
       "    <tr>\n",
       "      <th>five</th>\n",
       "      <td>2.9</td>\n",
       "    </tr>\n",
       "    <tr>\n",
       "      <th>six</th>\n",
       "      <td>3.2</td>\n",
       "    </tr>\n",
       "    <tr>\n",
       "      <th>seven</th>\n",
       "      <td>1.7</td>\n",
       "    </tr>\n",
       "  </tbody>\n",
       "</table>\n",
       "</div>"
      ],
      "text/plain": [
       "       Pop\n",
       "one    1.5\n",
       "two    1.7\n",
       "three  3.6\n",
       "four   2.4\n",
       "five   2.9\n",
       "six    3.2\n",
       "seven  1.7"
      ]
     },
     "execution_count": 167,
     "metadata": {},
     "output_type": "execute_result"
    }
   ],
   "source": [
    "# we may use xisting data to populate a new DataFrame with specific columns\n",
    "df2 = pd.DataFrame(data_d, columns=['Pop', 'Years'], index=new_ind) # columns in this order\n",
    "df2\n",
    "df3 = df2[['Pop']] # we may also make a DataFrame from an existing DataFrame\n",
    "df3"
   ]
  },
  {
   "cell_type": "markdown",
   "id": "8dff7d57-dc87-41b6-ba4c-305ee31ee515",
   "metadata": {},
   "source": [
    "#### Accessing Data within DataFrames"
   ]
  },
  {
   "cell_type": "code",
   "execution_count": 195,
   "id": "1ddeb139-f7f4-43b2-abbe-dda440e515e7",
   "metadata": {},
   "outputs": [
    {
     "data": {
      "text/plain": [
       "Pop         2.4\n",
       "Years    2020.0\n",
       "Name: Athlone, dtype: float64"
      ]
     },
     "execution_count": 195,
     "metadata": {},
     "output_type": "execute_result"
    }
   ],
   "source": [
    "df2.index = towns_l\n",
    "df2['Pop'] # returns just that column\n",
    "df2.iloc[3] # iloc lets us use the underlying ordinality of the members (just that row)\n",
    "df2.loc['Shannon'] # locate a member from the index - return the matching row"
   ]
  },
  {
   "cell_type": "code",
   "execution_count": 209,
   "id": "b563f66e-2c2b-4eac-bc40-6cdc163c4d8c",
   "metadata": {},
   "outputs": [
    {
     "data": {
      "text/plain": [
       "Towns    Galway\n",
       "Years      2019\n",
       "Pop         3.6\n",
       "Name: 6, dtype: object"
      ]
     },
     "execution_count": 209,
     "metadata": {},
     "output_type": "execute_result"
    }
   ],
   "source": [
    "# we may use both loc and iloc together\n",
    "num_l = [4,5,6,3,2,1,0]\n",
    "df4 = pd.DataFrame(data_d, index=num_l)\n",
    "df4\n",
    "# df4.loc[2] # our custom index member 2\n",
    "df4.iloc[2] # the underlying ordinal index"
   ]
  },
  {
   "cell_type": "code",
   "execution_count": null,
   "id": "2b8e66b6-2554-43a5-ad7a-8be1980db003",
   "metadata": {},
   "outputs": [],
   "source": []
  }
 ],
 "metadata": {
  "kernelspec": {
   "display_name": "Python 3 (ipykernel)",
   "language": "python",
   "name": "python3"
  },
  "language_info": {
   "codemirror_mode": {
    "name": "ipython",
    "version": 3
   },
   "file_extension": ".py",
   "mimetype": "text/x-python",
   "name": "python",
   "nbconvert_exporter": "python",
   "pygments_lexer": "ipython3",
   "version": "3.12.4"
  }
 },
 "nbformat": 4,
 "nbformat_minor": 5
}
