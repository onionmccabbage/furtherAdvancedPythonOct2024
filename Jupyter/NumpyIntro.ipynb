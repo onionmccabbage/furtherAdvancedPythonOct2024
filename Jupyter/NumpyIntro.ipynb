{
 "cells": [
  {
   "cell_type": "code",
   "execution_count": null,
   "id": "021ebf22-f34e-4f8f-83a2-4ecd9b089682",
   "metadata": {},
   "outputs": [],
   "source": [
    "## Introducing Numpy\n",
    "* Numerical Python (Numpy) is a library for managing large data sets"
   ]
  },
  {
   "cell_type": "code",
   "execution_count": 13,
   "id": "55de66a3-dfe9-4520-af51-13f5e134d20e",
   "metadata": {
    "scrolled": true
   },
   "outputs": [
    {
     "name": "stdout",
     "output_type": "stream",
     "text": [
      "7.2\n"
     ]
    },
    {
     "data": {
      "text/plain": [
       "3"
      ]
     },
     "execution_count": 13,
     "metadata": {},
     "output_type": "execute_result"
    }
   ],
   "source": [
    "# Python interactive cells\n",
    "a = 3\n",
    "b = 7.2\n",
    "print(b) # all print statements are executed\n",
    "a # if the final statement returns something, it is represented __repr__"
   ]
  },
  {
   "cell_type": "code",
   "execution_count": 21,
   "id": "bbf63ca0-9ed4-4f05-857c-b34ca698aee8",
   "metadata": {},
   "outputs": [
    {
     "data": {
      "text/plain": [
       "True"
      ]
     },
     "execution_count": 21,
     "metadata": {},
     "output_type": "execute_result"
    }
   ],
   "source": [
    "def fn():\n",
    "    return True\n",
    "fn()"
   ]
  },
  {
   "cell_type": "code",
   "execution_count": null,
   "id": "35bb2c54-bea0-42d0-bdfd-2e2993c1a11e",
   "metadata": {},
   "outputs": [],
   "source": []
  }
 ],
 "metadata": {
  "kernelspec": {
   "display_name": "Python 3 (ipykernel)",
   "language": "python",
   "name": "python3"
  },
  "language_info": {
   "codemirror_mode": {
    "name": "ipython",
    "version": 3
   },
   "file_extension": ".py",
   "mimetype": "text/x-python",
   "name": "python",
   "nbconvert_exporter": "python",
   "pygments_lexer": "ipython3",
   "version": "3.12.4"
  }
 },
 "nbformat": 4,
 "nbformat_minor": 5
}
