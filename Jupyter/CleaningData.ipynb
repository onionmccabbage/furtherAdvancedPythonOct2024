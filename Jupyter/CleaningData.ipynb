{
 "cells": [
  {
   "cell_type": "markdown",
   "id": "46cf82f9-f256-42ed-9962-69e40a8103c0",
   "metadata": {},
   "source": [
    "### Cleaning Data and using Numerical Analysis"
   ]
  },
  {
   "cell_type": "code",
   "execution_count": 2,
   "id": "be97e2f2-c510-4147-9b95-8f38d23a0590",
   "metadata": {},
   "outputs": [],
   "source": [
    "import numpy as np\n",
    "import pandas as pd"
   ]
  },
  {
   "cell_type": "code",
   "execution_count": 14,
   "id": "4e057bb3-6c16-4738-a48d-53c18c973d4d",
   "metadata": {},
   "outputs": [
    {
     "data": {
      "text/plain": [
       "0     True\n",
       "1     True\n",
       "2    False\n",
       "3     True\n",
       "dtype: bool"
      ]
     },
     "execution_count": 14,
     "metadata": {},
     "output_type": "execute_result"
    }
   ],
   "source": [
    "# we sometimes have incomplete data\n",
    "d = ['A', 'B', np.nan, 'D']\n",
    "y = pd.Series(d)\n",
    "y.isnull() # NaN evaluates to null\n",
    "y.isna() # we can spot NaN\n",
    "y.notnull()\n",
    "y.notna()"
   ]
  },
  {
   "cell_type": "code",
   "execution_count": 24,
   "id": "df69eaae-c541-40c4-8fb7-00994c22a585",
   "metadata": {},
   "outputs": [
    {
     "data": {
      "text/plain": [
       "0    A\n",
       "1    B\n",
       "2    Q\n",
       "3    D\n",
       "dtype: object"
      ]
     },
     "execution_count": 24,
     "metadata": {},
     "output_type": "execute_result"
    }
   ],
   "source": [
    "# there are several strategies to deal with missing data\n",
    "y.fillna('Q') # does not persist\n",
    "# careful - we lose the original data structure\n",
    "y.fillna('Q', inplace=True) # the changes will persist\n",
    "y"
   ]
  },
  {
   "cell_type": "code",
   "execution_count": 34,
   "id": "cece942a-71a6-4ae9-9809-70691ba4c2ec",
   "metadata": {},
   "outputs": [
    {
     "data": {
      "text/plain": [
       "0    A\n",
       "1    B\n",
       "3    D\n",
       "dtype: object"
      ]
     },
     "execution_count": 34,
     "metadata": {},
     "output_type": "execute_result"
    }
   ],
   "source": [
    "# Careful -when we make a copy it is SHALLOW (not a deep copy)\n",
    "# so if we mutate the original it does NOT mutate the copy\n",
    "y[2] = np.nan\n",
    "y.dropna(inplace=True)\n",
    "y"
   ]
  },
  {
   "cell_type": "markdown",
   "id": "411975e6-c46a-4ea7-99a4-bfb1b2cb2a6b",
   "metadata": {},
   "source": [
    "### Handling Missing Data in a DataFrame"
   ]
  },
  {
   "cell_type": "code",
   "execution_count": null,
   "id": "666f47a9-2376-42d6-92f1-0e55d4b3caf0",
   "metadata": {},
   "outputs": [],
   "source": [
    "df = pd.DataFrame(np.random.randn(10,3))\n",
    "df.iloc[0:4,1] = np.nan\n",
    "df.iloc[1:3,2] = np.nan\n",
    "# we can fill NaN like this\n",
    "df.fillna(0) # does not alter the original structure\n",
    "# axis=1 lets us work across the df\n",
    "df.fillna(method='ffill', axis=1) # careful - deprecation"
   ]
  },
  {
   "cell_type": "markdown",
   "id": "53fc1f0f-c425-40fe-8f77-0e6addf9fbd0",
   "metadata": {},
   "source": [
    "### Statistical Methods"
   ]
  },
  {
   "cell_type": "code",
   "execution_count": 64,
   "id": "e7f72b24-f935-412e-a32f-545864299fb2",
   "metadata": {},
   "outputs": [
    {
     "data": {
      "text/html": [
       "<div>\n",
       "<style scoped>\n",
       "    .dataframe tbody tr th:only-of-type {\n",
       "        vertical-align: middle;\n",
       "    }\n",
       "\n",
       "    .dataframe tbody tr th {\n",
       "        vertical-align: top;\n",
       "    }\n",
       "\n",
       "    .dataframe thead th {\n",
       "        text-align: right;\n",
       "    }\n",
       "</style>\n",
       "<table border=\"1\" class=\"dataframe\">\n",
       "  <thead>\n",
       "    <tr style=\"text-align: right;\">\n",
       "      <th></th>\n",
       "      <th>0</th>\n",
       "      <th>1</th>\n",
       "      <th>2</th>\n",
       "    </tr>\n",
       "  </thead>\n",
       "  <tbody>\n",
       "    <tr>\n",
       "      <th>count</th>\n",
       "      <td>10.000000</td>\n",
       "      <td>6.000000</td>\n",
       "      <td>8.000000</td>\n",
       "    </tr>\n",
       "    <tr>\n",
       "      <th>mean</th>\n",
       "      <td>0.297425</td>\n",
       "      <td>-0.485277</td>\n",
       "      <td>0.430349</td>\n",
       "    </tr>\n",
       "    <tr>\n",
       "      <th>std</th>\n",
       "      <td>0.682437</td>\n",
       "      <td>0.663325</td>\n",
       "      <td>0.824252</td>\n",
       "    </tr>\n",
       "    <tr>\n",
       "      <th>min</th>\n",
       "      <td>-1.066677</td>\n",
       "      <td>-1.424335</td>\n",
       "      <td>-1.406486</td>\n",
       "    </tr>\n",
       "    <tr>\n",
       "      <th>25%</th>\n",
       "      <td>0.139035</td>\n",
       "      <td>-0.911650</td>\n",
       "      <td>0.292426</td>\n",
       "    </tr>\n",
       "    <tr>\n",
       "      <th>50%</th>\n",
       "      <td>0.207016</td>\n",
       "      <td>-0.437324</td>\n",
       "      <td>0.760807</td>\n",
       "    </tr>\n",
       "    <tr>\n",
       "      <th>75%</th>\n",
       "      <td>0.488197</td>\n",
       "      <td>-0.000171</td>\n",
       "      <td>0.955498</td>\n",
       "    </tr>\n",
       "    <tr>\n",
       "      <th>max</th>\n",
       "      <td>1.608524</td>\n",
       "      <td>0.311536</td>\n",
       "      <td>1.017329</td>\n",
       "    </tr>\n",
       "  </tbody>\n",
       "</table>\n",
       "</div>"
      ],
      "text/plain": [
       "               0         1         2\n",
       "count  10.000000  6.000000  8.000000\n",
       "mean    0.297425 -0.485277  0.430349\n",
       "std     0.682437  0.663325  0.824252\n",
       "min    -1.066677 -1.424335 -1.406486\n",
       "25%     0.139035 -0.911650  0.292426\n",
       "50%     0.207016 -0.437324  0.760807\n",
       "75%     0.488197 -0.000171  0.955498\n",
       "max     1.608524  0.311536  1.017329"
      ]
     },
     "execution_count": 64,
     "metadata": {},
     "output_type": "execute_result"
    }
   ],
   "source": [
    "df.describe() # gives useful statistics for the DataFrame\n",
    "# these ignore NaN"
   ]
  },
  {
   "cell_type": "code",
   "execution_count": 78,
   "id": "79989f21-95b0-4681-a93c-86454b65a241",
   "metadata": {},
   "outputs": [
    {
     "data": {
      "text/plain": [
       "0    0.297425\n",
       "1   -0.485277\n",
       "2    0.430349\n",
       "dtype: float64"
      ]
     },
     "execution_count": 78,
     "metadata": {},
     "output_type": "execute_result"
    }
   ],
   "source": [
    "df.min()\n",
    "df.max()\n",
    "df.count() # they all ignore NaN\n",
    "df.mean()"
   ]
  },
  {
   "cell_type": "code",
   "execution_count": 84,
   "id": "39479543-fd82-40f9-a5d1-6f83757f1870",
   "metadata": {},
   "outputs": [
    {
     "data": {
      "text/html": [
       "<div>\n",
       "<style scoped>\n",
       "    .dataframe tbody tr th:only-of-type {\n",
       "        vertical-align: middle;\n",
       "    }\n",
       "\n",
       "    .dataframe tbody tr th {\n",
       "        vertical-align: top;\n",
       "    }\n",
       "\n",
       "    .dataframe thead th {\n",
       "        text-align: right;\n",
       "    }\n",
       "</style>\n",
       "<table border=\"1\" class=\"dataframe\">\n",
       "  <thead>\n",
       "    <tr style=\"text-align: right;\">\n",
       "      <th></th>\n",
       "      <th>0</th>\n",
       "      <th>1</th>\n",
       "      <th>2</th>\n",
       "    </tr>\n",
       "  </thead>\n",
       "  <tbody>\n",
       "    <tr>\n",
       "      <th>0</th>\n",
       "      <td>-0.121840</td>\n",
       "      <td>-0.485277</td>\n",
       "      <td>-0.038893</td>\n",
       "    </tr>\n",
       "    <tr>\n",
       "      <th>1</th>\n",
       "      <td>0.120382</td>\n",
       "      <td>-0.485277</td>\n",
       "      <td>0.430349</td>\n",
       "    </tr>\n",
       "    <tr>\n",
       "      <th>2</th>\n",
       "      <td>0.850210</td>\n",
       "      <td>-0.485277</td>\n",
       "      <td>0.430349</td>\n",
       "    </tr>\n",
       "    <tr>\n",
       "      <th>3</th>\n",
       "      <td>0.489082</td>\n",
       "      <td>-0.485277</td>\n",
       "      <td>1.008542</td>\n",
       "    </tr>\n",
       "    <tr>\n",
       "      <th>4</th>\n",
       "      <td>0.200977</td>\n",
       "      <td>-1.424335</td>\n",
       "      <td>1.017329</td>\n",
       "    </tr>\n",
       "    <tr>\n",
       "      <th>5</th>\n",
       "      <td>-1.066677</td>\n",
       "      <td>-1.034438</td>\n",
       "      <td>-1.406486</td>\n",
       "    </tr>\n",
       "    <tr>\n",
       "      <th>6</th>\n",
       "      <td>1.608524</td>\n",
       "      <td>-0.543287</td>\n",
       "      <td>0.402866</td>\n",
       "    </tr>\n",
       "    <tr>\n",
       "      <th>7</th>\n",
       "      <td>0.194993</td>\n",
       "      <td>-0.331361</td>\n",
       "      <td>0.937817</td>\n",
       "    </tr>\n",
       "    <tr>\n",
       "      <th>8</th>\n",
       "      <td>0.485541</td>\n",
       "      <td>0.110225</td>\n",
       "      <td>0.815822</td>\n",
       "    </tr>\n",
       "    <tr>\n",
       "      <th>9</th>\n",
       "      <td>0.213056</td>\n",
       "      <td>0.311536</td>\n",
       "      <td>0.705793</td>\n",
       "    </tr>\n",
       "  </tbody>\n",
       "</table>\n",
       "</div>"
      ],
      "text/plain": [
       "          0         1         2\n",
       "0 -0.121840 -0.485277 -0.038893\n",
       "1  0.120382 -0.485277  0.430349\n",
       "2  0.850210 -0.485277  0.430349\n",
       "3  0.489082 -0.485277  1.008542\n",
       "4  0.200977 -1.424335  1.017329\n",
       "5 -1.066677 -1.034438 -1.406486\n",
       "6  1.608524 -0.543287  0.402866\n",
       "7  0.194993 -0.331361  0.937817\n",
       "8  0.485541  0.110225  0.815822\n",
       "9  0.213056  0.311536  0.705793"
      ]
     },
     "execution_count": 84,
     "metadata": {},
     "output_type": "execute_result"
    }
   ],
   "source": [
    "# we can use this to fillna\n",
    "df.fillna( df.mean(), inplace=False) # careful - this will affect other stats"
   ]
  },
  {
   "cell_type": "code",
   "execution_count": 88,
   "id": "3c88d72d-ac55-4b09-8576-c1f16cb562f4",
   "metadata": {},
   "outputs": [
    {
     "data": {
      "text/html": [
       "<div>\n",
       "<style scoped>\n",
       "    .dataframe tbody tr th:only-of-type {\n",
       "        vertical-align: middle;\n",
       "    }\n",
       "\n",
       "    .dataframe tbody tr th {\n",
       "        vertical-align: top;\n",
       "    }\n",
       "\n",
       "    .dataframe thead th {\n",
       "        text-align: right;\n",
       "    }\n",
       "</style>\n",
       "<table border=\"1\" class=\"dataframe\">\n",
       "  <thead>\n",
       "    <tr style=\"text-align: right;\">\n",
       "      <th></th>\n",
       "      <th>0</th>\n",
       "      <th>1</th>\n",
       "      <th>2</th>\n",
       "    </tr>\n",
       "  </thead>\n",
       "  <tbody>\n",
       "    <tr>\n",
       "      <th>0</th>\n",
       "      <td>-0.121840</td>\n",
       "      <td>-0.485277</td>\n",
       "      <td>-0.038893</td>\n",
       "    </tr>\n",
       "    <tr>\n",
       "      <th>1</th>\n",
       "      <td>0.120382</td>\n",
       "      <td>-0.485277</td>\n",
       "      <td>-0.485277</td>\n",
       "    </tr>\n",
       "    <tr>\n",
       "      <th>2</th>\n",
       "      <td>0.850210</td>\n",
       "      <td>-0.485277</td>\n",
       "      <td>-0.485277</td>\n",
       "    </tr>\n",
       "    <tr>\n",
       "      <th>3</th>\n",
       "      <td>0.489082</td>\n",
       "      <td>-0.485277</td>\n",
       "      <td>1.008542</td>\n",
       "    </tr>\n",
       "    <tr>\n",
       "      <th>4</th>\n",
       "      <td>0.200977</td>\n",
       "      <td>-1.424335</td>\n",
       "      <td>1.017329</td>\n",
       "    </tr>\n",
       "    <tr>\n",
       "      <th>5</th>\n",
       "      <td>-1.066677</td>\n",
       "      <td>-1.034438</td>\n",
       "      <td>-1.406486</td>\n",
       "    </tr>\n",
       "    <tr>\n",
       "      <th>6</th>\n",
       "      <td>1.608524</td>\n",
       "      <td>-0.543287</td>\n",
       "      <td>0.402866</td>\n",
       "    </tr>\n",
       "    <tr>\n",
       "      <th>7</th>\n",
       "      <td>0.194993</td>\n",
       "      <td>-0.331361</td>\n",
       "      <td>0.937817</td>\n",
       "    </tr>\n",
       "    <tr>\n",
       "      <th>8</th>\n",
       "      <td>0.485541</td>\n",
       "      <td>0.110225</td>\n",
       "      <td>0.815822</td>\n",
       "    </tr>\n",
       "    <tr>\n",
       "      <th>9</th>\n",
       "      <td>0.213056</td>\n",
       "      <td>0.311536</td>\n",
       "      <td>0.705793</td>\n",
       "    </tr>\n",
       "  </tbody>\n",
       "</table>\n",
       "</div>"
      ],
      "text/plain": [
       "          0         1         2\n",
       "0 -0.121840 -0.485277 -0.038893\n",
       "1  0.120382 -0.485277 -0.485277\n",
       "2  0.850210 -0.485277 -0.485277\n",
       "3  0.489082 -0.485277  1.008542\n",
       "4  0.200977 -1.424335  1.017329\n",
       "5 -1.066677 -1.034438 -1.406486\n",
       "6  1.608524 -0.543287  0.402866\n",
       "7  0.194993 -0.331361  0.937817\n",
       "8  0.485541  0.110225  0.815822\n",
       "9  0.213056  0.311536  0.705793"
      ]
     },
     "execution_count": 88,
     "metadata": {},
     "output_type": "execute_result"
    }
   ],
   "source": [
    "col1_mean = df.iloc[:,1].mean()\n",
    "col1_mean # the mean value of every significant member of col1\n",
    "df.fillna(col1_mean) # use any reasonable significant value\n"
   ]
  }
 ],
 "metadata": {
  "kernelspec": {
   "display_name": "Python 3 (ipykernel)",
   "language": "python",
   "name": "python3"
  },
  "language_info": {
   "codemirror_mode": {
    "name": "ipython",
    "version": 3
   },
   "file_extension": ".py",
   "mimetype": "text/x-python",
   "name": "python",
   "nbconvert_exporter": "python",
   "pygments_lexer": "ipython3",
   "version": "3.12.4"
  }
 },
 "nbformat": 4,
 "nbformat_minor": 5
}
