{
 "cells": [
  {
   "cell_type": "markdown",
   "id": "7a155ac8-4f84-42f3-b21d-395db81c6da9",
   "metadata": {},
   "source": [
    "### Working with External Files. Also Group and Aggregate Dats"
   ]
  },
  {
   "cell_type": "code",
   "execution_count": 2,
   "id": "f2e81f0e-87b0-4d76-9ee8-a8715a6a91d8",
   "metadata": {},
   "outputs": [],
   "source": [
    "import numpy as np\n",
    "import pandas as pd"
   ]
  },
  {
   "cell_type": "code",
   "execution_count": null,
   "id": "b9a36c05-805f-44ff-bd4e-553121f96dbe",
   "metadata": {},
   "outputs": [],
   "source": []
  }
 ],
 "metadata": {
  "kernelspec": {
   "display_name": "Python 3 (ipykernel)",
   "language": "python",
   "name": "python3"
  },
  "language_info": {
   "codemirror_mode": {
    "name": "ipython",
    "version": 3
   },
   "file_extension": ".py",
   "mimetype": "text/x-python",
   "name": "python",
   "nbconvert_exporter": "python",
   "pygments_lexer": "ipython3",
   "version": "3.12.4"
  }
 },
 "nbformat": 4,
 "nbformat_minor": 5
}
