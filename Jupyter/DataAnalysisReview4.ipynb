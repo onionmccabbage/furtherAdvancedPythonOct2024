{
 "cells": [
  {
   "cell_type": "markdown",
   "id": "1b0aa256-70ca-479c-beb9-ff0ed664e0ae",
   "metadata": {},
   "source": [
    "## Review Exercise 4\n",
    "* Load some data about US flights (either from local .csv or from online repo)\n",
    "* Carry out analysese as indicated in the text file 'review4.txt'"
   ]
  },
  {
   "cell_type": "markdown",
   "id": "8dbe9ac5-6e9c-4feb-8d5c-37a1c26fa541",
   "metadata": {},
   "source": [
    "### Tea break at 3:00-3:15, then carry on until 4:00\n",
    "If you finish earlier let me know..."
   ]
  },
  {
   "cell_type": "code",
   "execution_count": null,
   "id": "5dc973f5-1a4d-485a-b5b7-b669dc52e695",
   "metadata": {},
   "outputs": [],
   "source": []
  }
 ],
 "metadata": {
  "kernelspec": {
   "display_name": "Python 3 (ipykernel)",
   "language": "python",
   "name": "python3"
  },
  "language_info": {
   "codemirror_mode": {
    "name": "ipython",
    "version": 3
   },
   "file_extension": ".py",
   "mimetype": "text/x-python",
   "name": "python",
   "nbconvert_exporter": "python",
   "pygments_lexer": "ipython3",
   "version": "3.12.4"
  }
 },
 "nbformat": 4,
 "nbformat_minor": 5
}
