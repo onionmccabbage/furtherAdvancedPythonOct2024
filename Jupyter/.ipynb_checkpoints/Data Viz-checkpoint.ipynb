{
 "cells": [
  {
   "cell_type": "markdown",
   "id": "b2ef8c05",
   "metadata": {},
   "source": [
    "### Charting Data"
   ]
  },
  {
   "cell_type": "code",
   "execution_count": 3,
   "id": "648107ef",
   "metadata": {},
   "outputs": [],
   "source": [
    "import numpy as np\n",
    "import pandas as pd\n",
    "import matplotlib.pyplot as plt"
   ]
  },
  {
   "cell_type": "code",
   "execution_count": 7,
   "id": "0f16b049",
   "metadata": {},
   "outputs": [
    {
     "data": {
      "text/plain": [
       "(array([0, 1, 2, 3, 4]),\n",
       " array([2.65688345, 2.52914669, 2.62931474, 2.42084666, 2.7349137 ]))"
      ]
     },
     "execution_count": 7,
     "metadata": {},
     "output_type": "execute_result"
    }
   ],
   "source": [
    "x = np.arange(5)\n",
    "y = np.random.rand(5)+2 # some random number all greater than 4\n",
    "(x, y) # immediately show this tuple"
   ]
  },
  {
   "cell_type": "code",
   "execution_count": 15,
   "id": "0df9c157",
   "metadata": {},
   "outputs": [
    {
     "data": {
      "text/plain": [
       "Text(0.5, 1.0, 'Vertical Bars')"
      ]
     },
     "execution_count": 15,
     "metadata": {},
     "output_type": "execute_result"
    },
    {
     "data": {
      "image/png": "[encoded data removed]",
      "text/plain": [
       "<Figure size 640x480 with 1 Axes>"
      ]
     },
     "metadata": {},
     "output_type": "display_data"
    }
   ],
   "source": [
    "# we can plot a chart\n",
    "plt.bar(x, y)\n",
    "# plt.barh(x, y)\n",
    "# plt.pie(y)\n",
    "plt.title('Vertical Bars')"
   ]
  },
  {
   "cell_type": "code",
   "execution_count": 25,
   "id": "1af6f60e",
   "metadata": {},
   "outputs": [
    {
     "data": {
      "text/plain": [
       "(array([0. , 0.6, 1.2, 1.8, 2.4, 3. , 3.6, 4.2, 4.8, 5.4, 6. ]),\n",
       " array([ 0.  ,  0.36,  1.44,  3.24,  5.76,  9.  , 12.96, 17.64, 23.04,\n",
       "        29.16, 36.  ]))"
      ]
     },
     "execution_count": 25,
     "metadata": {},
     "output_type": "execute_result"
    }
   ],
   "source": [
    "# Line chart\n",
    "x = np.linspace(0, 6, 11) # or (0, 6, 12) etc.\n",
    "y = np.power(x, 2) # this is performant\n",
    "x, y # remember the actual accuracy may be better than what is represented by the output"
   ]
  },
  {
   "cell_type": "code",
   "execution_count": null,
   "id": "b4bdf3fa",
   "metadata": {},
   "outputs": [],
   "source": [
    "plt.axis([0,7, 0, 42])\n",
    "plt.xlabel('Linear Progression')\n",
    "plt.ylabel('Squares')\n",
    "plt.title('Line Chart')\n",
    "plt.plot(x, y)"
   ]
  },
  {
   "cell_type": "code",
   "execution_count": null,
   "id": "ce4b2fb5",
   "metadata": {},
   "outputs": [],
   "source": []
  }
 ],
 "metadata": {
  "kernelspec": {
   "display_name": "Python 3 (ipykernel)",
   "language": "python",
   "name": "python3"
  },
  "language_info": {
   "codemirror_mode": {
    "name": "ipython",
    "version": 3
   },
   "file_extension": ".py",
   "mimetype": "text/x-python",
   "name": "python",
   "nbconvert_exporter": "python",
   "pygments_lexer": "ipython3",
   "version": "3.12.4"
  }
 },
 "nbformat": 4,
 "nbformat_minor": 5
}
