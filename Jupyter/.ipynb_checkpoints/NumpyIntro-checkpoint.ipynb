{
 "cells": [
  {
   "cell_type": "code",
   "execution_count": null,
   "id": "021ebf22-f34e-4f8f-83a2-4ecd9b089682",
   "metadata": {},
   "outputs": [],
   "source": [
    "## Introducing Numpy\n",
    "* Numerical Python (Numpy) is a library for managing large data sets"
   ]
  },
  {
   "cell_type": "code",
   "execution_count": 28,
   "id": "988a280a-2830-4527-b84e-762f33a905a4",
   "metadata": {},
   "outputs": [],
   "source": [
    "# if we use this outside Jupyter, we will need to pip install numpy\n",
    "import numpy as np # this is conventional"
   ]
  },
  {
   "cell_type": "code",
   "execution_count": null,
   "id": "55de66a3-dfe9-4520-af51-13f5e134d20e",
   "metadata": {
    "scrolled": true
   },
   "outputs": [],
   "source": [
    "# Python interactive cells\n",
    "a = 3\n",
    "b = 7.2\n",
    "print(b) # all print statements are executed\n",
    "a # if the final statement returns something, it is represented __repr__"
   ]
  },
  {
   "cell_type": "code",
   "execution_count": 46,
   "id": "bbf63ca0-9ed4-4f05-857c-b34ca698aee8",
   "metadata": {},
   "outputs": [
    {
     "data": {
      "text/plain": [
       "array([2. , 2.5, 3. , 3.5, 4. , 4.5, 5. , 5.5, 6. , 6.5, 7. , 7.5])"
      ]
     },
     "execution_count": 46,
     "metadata": {},
     "output_type": "execute_result"
    }
   ],
   "source": [
    "def fn():\n",
    "    return True\n",
    "fn()\n",
    "# Numpy offers additional data structures\n",
    "n = np.arange(2,8,0.5) # like a Python range, but an array of members\n",
    "n # we have an array range object - all of the dame data type"
   ]
  },
  {
   "cell_type": "code",
   "execution_count": 48,
   "id": "35bb2c54-bea0-42d0-bdfd-2e2993c1a11e",
   "metadata": {},
   "outputs": [
    {
     "data": {
      "text/plain": [
       "dtype('float64')"
      ]
     },
     "execution_count": 48,
     "metadata": {},
     "output_type": "execute_result"
    }
   ],
   "source": [
    "n.dtype # may be int or float - numpy will decide"
   ]
  },
  {
   "cell_type": "code",
   "execution_count": 132,
   "id": "73694fed-b186-45cf-bea7-b4d37d5ca262",
   "metadata": {},
   "outputs": [
    {
     "data": {
      "text/plain": [
       "(9, 3)"
      ]
     },
     "execution_count": 132,
     "metadata": {},
     "output_type": "execute_result"
    }
   ],
   "source": [
    "# we can create an array of randon values\n",
    "m = np.random.randn(9,3) # we will have an array shaped 9 by 3 members\n",
    "m.dtype # they will all be the same data type\n",
    "m.shape"
   ]
  },
  {
   "cell_type": "code",
   "execution_count": 136,
   "id": "84445ace-bda3-44ed-8278-0a9bf4482ce5",
   "metadata": {},
   "outputs": [
    {
     "data": {
      "text/plain": [
       "(2, 3, 4, 5, 2, 3)"
      ]
     },
     "execution_count": 136,
     "metadata": {},
     "output_type": "execute_result"
    }
   ],
   "source": [
    "# multi-dimensional arrays\n",
    "e = np.random.randn(2,3,4,5,2,3)\n",
    "e.shape # a six-dimensional array"
   ]
  },
  {
   "cell_type": "code",
   "execution_count": 164,
   "id": "8cdb53b8-2c32-415e-b807-695eecc173fa",
   "metadata": {},
   "outputs": [
    {
     "data": {
      "text/plain": [
       "array([[0, 0, 0, 0, 0, 0],\n",
       "       [0, 0, 0, 0, 0, 0],\n",
       "       [0, 0, 0, 0, 0, 0]])"
      ]
     },
     "execution_count": 164,
     "metadata": {},
     "output_type": "execute_result"
    }
   ],
   "source": [
    "# creating arrays\n",
    "f = np.empty( (3,6) ) # find some available memory and make an array there\n",
    "f # careful - the values are entirely unpredictable\n",
    "f = np.zeros( (3,6), 'int32' ) # an array of integers\n",
    "f"
   ]
  },
  {
   "cell_type": "code",
   "execution_count": 166,
   "id": "1943ebce-171c-4b8c-83b4-c113fb17dce1",
   "metadata": {},
   "outputs": [
    {
     "data": {
      "text/plain": [
       "array([[0, 0, 0, 0, 0, 0],\n",
       "       [0, 0, 0, 0, 0, 0]])"
      ]
     },
     "execution_count": 166,
     "metadata": {},
     "output_type": "execute_result"
    }
   ],
   "source": [
    "# we may access members of any array using [] slicing\n",
    "f[0:2] # [start:stop-before:step]"
   ]
  },
  {
   "cell_type": "markdown",
   "id": "68fd3d50-f4e5-4406-8555-0de513f2b9f5",
   "metadata": {},
   "source": [
    "#### Working with Arrays"
   ]
  },
  {
   "cell_type": "code",
   "execution_count": 183,
   "id": "713ef490-9eeb-45e5-8902-e56c08960e2c",
   "metadata": {},
   "outputs": [
    {
     "data": {
      "text/plain": [
       "array([[0., 0., 0., 0., 0., 0.],\n",
       "       [0., 0., 0., 0., 0., 0.],\n",
       "       [0., 0., 0., 0., 0., 0.]], dtype=float32)"
      ]
     },
     "execution_count": 183,
     "metadata": {},
     "output_type": "execute_result"
    }
   ],
   "source": [
    "s = f.astype(np.str_) # this is numpy syntax\n",
    "s # we have an array of strings\n",
    "i = f.astype(np.float32) # or int32 or float64\n",
    "i"
   ]
  },
  {
   "cell_type": "markdown",
   "id": "805f7d62-1b25-454c-80ca-133d269c1601",
   "metadata": {},
   "source": [
    "#### Calculations on Arrays"
   ]
  },
  {
   "cell_type": "code",
   "execution_count": null,
   "id": "3e6bb119-c7ab-438c-bece-74119710694f",
   "metadata": {},
   "outputs": [],
   "source": [
    "z = np.zeros((3,3,3,3)) # a tuple of dimensions\n",
    "z= np.random.randn(3,3,3,3)\n",
    "powers = ((z+3)**2) # this is extremely performant\n",
    "(z-2)*0.5/b**100 # operation is applied to all array members concurrently\n",
    "# remember Numpy and Pandas are written in C - there is no GIL"
   ]
  },
  {
   "cell_type": "code",
   "execution_count": null,
   "id": "0c2880bd-00d5-4d9a-a579-681160d75ff7",
   "metadata": {},
   "outputs": [],
   "source": [
    "z[0:5:2]\n",
    "z[::-1] # asumes [0:end:-1] reverse"
   ]
  },
  {
   "cell_type": "code",
   "execution_count": 233,
   "id": "abb08af9-1e8f-4d35-8e94-4c60de1fe4bc",
   "metadata": {},
   "outputs": [
    {
     "data": {
      "text/plain": [
       "-1.1349706683114822"
      ]
     },
     "execution_count": 233,
     "metadata": {},
     "output_type": "execute_result"
    }
   ],
   "source": [
    "z[1,1,1][2] # access members by n,n,n.. then []"
   ]
  },
  {
   "cell_type": "code",
   "execution_count": null,
   "id": "efff3217-459e-452e-bef3-9be9583ecdee",
   "metadata": {},
   "outputs": [],
   "source": [
    "z[1]= 9 # nunpy will alter the dtype to suit\n",
    "z[0,0] = 8\n",
    "z[0,1,2] = 7\n",
    "z[1,2,2][0] = 6\n",
    "z"
   ]
  },
  {
   "cell_type": "code",
   "execution_count": 265,
   "id": "ddb54d9d-6caa-4670-b79a-00d96922dd16",
   "metadata": {},
   "outputs": [
    {
     "data": {
      "text/plain": [
       "array([[0, 0, 0],\n",
       "       [0, 0, 0],\n",
       "       [0, 0, 0],\n",
       "       [0, 0, 0],\n",
       "       [0, 0, 0],\n",
       "       [0, 0, 0]])"
      ]
     },
     "execution_count": 265,
     "metadata": {},
     "output_type": "execute_result"
    }
   ],
   "source": [
    "# we review the shape\n",
    "g = f.T # transpose (remember we do not alter the original\n",
    "g.shape\n",
    "g"
   ]
  }
 ],
 "metadata": {
  "kernelspec": {
   "display_name": "Python 3 (ipykernel)",
   "language": "python",
   "name": "python3"
  },
  "language_info": {
   "codemirror_mode": {
    "name": "ipython",
    "version": 3
   },
   "file_extension": ".py",
   "mimetype": "text/x-python",
   "name": "python",
   "nbconvert_exporter": "python",
   "pygments_lexer": "ipython3",
   "version": "3.12.4"
  }
 },
 "nbformat": 4,
 "nbformat_minor": 5
}
