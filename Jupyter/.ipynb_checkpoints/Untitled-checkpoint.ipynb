{
 "cells": [
  {
   "cell_type": "markdown",
   "id": "91f937f3-0b1e-442e-a248-22b29ad4b694",
   "metadata": {},
   "source": [
    "### Introducing Pandas\n",
    "Pandas is Python And Numerical Data Analysis"
   ]
  },
  {
   "cell_type": "code",
   "execution_count": 5,
   "id": "0f8feaa4-d1a2-45cb-ab38-635e411bb28d",
   "metadata": {},
   "outputs": [],
   "source": [
    "import numpy as np\n",
    "import pandas as pd # for stand-along remember to pip install pandas"
   ]
  },
  {
   "cell_type": "code",
   "execution_count": 59,
   "id": "c004a5f2-0fcc-4a04-93ed-f98ac4e159c8",
   "metadata": {},
   "outputs": [
    {
     "data": {
      "text/plain": [
       "d     8.0\n",
       "d    99.0\n",
       "dtype: float64"
      ]
     },
     "execution_count": 59,
     "metadata": {},
     "output_type": "execute_result"
    }
   ],
   "source": [
    "# Pandas procides additional data structures\n",
    "l = [8.0, 7, -5.0, 3, 99]\n",
    "# a Pandas Series is a mutable collection of the same data type\n",
    "# p = pd.Series(l, index=range(0,10,2)) # we may set an index on creation\n",
    "p = pd.Series(l)\n",
    "p.values # the values of a Series are a Numpy array\n",
    "p.index # a range-like object - there is always an index\n",
    "# p[0:3] # by default the index is zero-based, 0, 1, 2.... We can apply our own index\n",
    "ind = ('d','b','a','c', 'd') # a tuple (same length as the target series)\n",
    "s = pd.Series(l, index=ind) # we use the tuple as an index\n",
    "s.index\n",
    "s['b':'c'] # normal slicing, but inclusive\n",
    "s['d'] # every match is found - even with repeated index names"
   ]
  },
  {
   "cell_type": "code",
   "execution_count": 69,
   "id": "c8590a26-f886-41dc-aca7-cc8f5b1689a9",
   "metadata": {},
   "outputs": [
    {
     "data": {
      "text/plain": [
       "-5"
      ]
     },
     "execution_count": 69,
     "metadata": {},
     "output_type": "execute_result"
    }
   ],
   "source": [
    "# building Pandas Series\n",
    "vals = (4,7,-5,3)\n",
    "ind = {'d', 'b', 'a', 'c'} # set ensures unique members\n",
    "s = pd.Series(vals, index=ind)\n",
    "s['d'] # due to the index being a set we cannot presume the index order\n"
   ]
  },
  {
   "cell_type": "code",
   "execution_count": 79,
   "id": "942806ae-013f-4beb-ba7b-88c5b2f8d6f4",
   "metadata": {},
   "outputs": [
    {
     "name": "stderr",
     "output_type": "stream",
     "text": [
      "C:\\Users\\rb17\\AppData\\Local\\Temp\\ipykernel_26608\\2174942194.py:1: FutureWarning: Setting an item of incompatible dtype is deprecated and will raise an error in a future version of pandas. Value '99.99' has dtype incompatible with int64, please explicitly cast to a compatible dtype first.\n",
      "  s['d'] = 99.99 # we can mutate members of a Series\n"
     ]
    },
    {
     "data": {
      "text/plain": [
       "a     4.00\n",
       "c     7.00\n",
       "d    99.99\n",
       "b     3.00\n",
       "dtype: float64"
      ]
     },
     "execution_count": 79,
     "metadata": {},
     "output_type": "execute_result"
    }
   ],
   "source": [
    "s['d'] = 99.99 # we can mutate members of a Series\n",
    "s.iloc[0] # iloc lets us use the inderlying index location\n",
    "s"
   ]
  },
  {
   "cell_type": "code",
   "execution_count": 85,
   "id": "781e35cd-783f-4afe-9968-cdc9e7d8b986",
   "metadata": {},
   "outputs": [
    {
     "data": {
      "text/plain": [
       "d     99.99\n",
       "e   -321.00\n",
       "dtype: float64"
      ]
     },
     "execution_count": 85,
     "metadata": {},
     "output_type": "execute_result"
    }
   ],
   "source": [
    "# as well as mutating members, we can add members to the Series\n",
    "s['e'] = -321\n",
    "s['d':'e':2] # step uses the underlying ordinality"
   ]
  },
  {
   "cell_type": "code",
   "execution_count": 93,
   "id": "e7042754-e8b1-463b-b3b5-62e5ecfd1834",
   "metadata": {},
   "outputs": [
    {
     "data": {
      "text/plain": [
       "a    2.000000\n",
       "c    2.645751\n",
       "d    9.999500\n",
       "b    1.732051\n",
       "e         NaN\n",
       "dtype: float64"
      ]
     },
     "execution_count": 93,
     "metadata": {},
     "output_type": "execute_result"
    }
   ],
   "source": [
    "# We can use comparative logic to return members\n",
    "s[s>2] # any comparitor is legal here\n",
    "# we may apply mathematics to all the members\n",
    "s**0.5  # apply to every member NaN represents 'not a number'"
   ]
  },
  {
   "cell_type": "code",
   "execution_count": 95,
   "id": "60dea5ab-0dd8-45ef-86ad-233377cd92df",
   "metadata": {},
   "outputs": [
    {
     "data": {
      "text/plain": [
       "a      4.0\n",
       "c      7.0\n",
       "d      NaN\n",
       "b      3.0\n",
       "e   -321.0\n",
       "dtype: float64"
      ]
     },
     "execution_count": 95,
     "metadata": {},
     "output_type": "execute_result"
    }
   ],
   "source": [
    "s.iloc[2] = np.nan\n",
    "s"
   ]
  },
  {
   "cell_type": "code",
   "execution_count": null,
   "id": "a90dbfc2-0d9f-44ba-87c2-2c144cbbd73f",
   "metadata": {},
   "outputs": [],
   "source": []
  }
 ],
 "metadata": {
  "kernelspec": {
   "display_name": "Python 3 (ipykernel)",
   "language": "python",
   "name": "python3"
  },
  "language_info": {
   "codemirror_mode": {
    "name": "ipython",
    "version": 3
   },
   "file_extension": ".py",
   "mimetype": "text/x-python",
   "name": "python",
   "nbconvert_exporter": "python",
   "pygments_lexer": "ipython3",
   "version": "3.12.4"
  }
 },
 "nbformat": 4,
 "nbformat_minor": 5
}
